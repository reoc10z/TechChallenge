{
  "cells": [
    {
      "cell_type": "markdown",
      "metadata": {},
      "source": [
        "# HEADLINE"
      ]
    },
    {
      "cell_type": "markdown",
      "metadata": {
        "id": "v4r7WAozsHm9",
        "pycharm": {
          "name": "#%% md\n"
        }
      },
      "source": [
        "\n",
        "#Data Science Technical Challenge - (Deadline: Sep 16 2024 11:59 p.m.) - Test, no es una prueba de ingreso\n",
        "\n",
        "## Take Home: Financial Transactions\n",
        "\n",
        "\n",
        "### Agosto 2024\n",
        "\n",
        "<hr style=\"height:2pt\">"
      ]
    },
    {
      "cell_type": "markdown",
      "metadata": {
        "id": "tYw5R8X5sHm_",
        "pycharm": {
          "name": "#%% md\n"
        }
      },
      "source": [
        "## Descripción\n",
        "\n",
        "El siguiente dataset contiene 116.201 registros de transacciones financieras de dominio público, enriquecida con data sintentica.\n",
        "\n",
        "El objetivo de este ejercicio es realizar un Exploratory Data Analysis (EDA) de este dataset, para entender la información contenida y obtener insights relevantes para ciertas tareas analíticas.\n",
        "\n",
        "Se puede descargar el dataset (formato parquet) desde este [link](https://drive.google.com/file/d/1RjeIHmtOTxz4M9WVhh8n9YsMTjk-1V80/view?usp=drive_link). Tendrás acceso a este archivo hasta la fecha límite del challenge que se te indicará en el correo.\n",
        "\n",
        "A continuación, una descripción de las columnas:\n",
        "\n",
        "| Variable            | Descripción                                                                 |\n",
        "| :------------------ | :-------------------------------------------------------------------------- |\n",
        "| account_id          | Número de cuenta involucrado en la transacción.                              |\n",
        "| date                | Fecha de la transacción.                                                     |\n",
        "| transaction_details | Narración o descripción de la transacción en los estados de cuenta bancarios.|\n",
        "| chq_no              | Número de cheque asociado con la transacción, si corresponde.                |\n",
        "| value_date          | Fecha de finalización de la transacción.                                     |\n",
        "| withdrawal_amt.     | Monto retirado en la transacción.                                            |\n",
        "| deposit_amt         | Monto depositado en la transacción.                                          |\n",
        "| balance_amt         | Saldo actual de la cuenta después de la transacción.                         |\n",
        "| category            | Categoría asignada basada en los detalles de la transacción.       |\n",
        "| city                | Ciudad donde se asume que ocurrió la transacción.                  |\n",
        "| device              | Tipo de dispositivo utilizado para la transacción (e.g., Móvil, Escritorio, Tablet). |\n"
      ]
    },
    {
      "cell_type": "markdown",
      "metadata": {
        "id": "fTaJvdhLsHm_",
        "pycharm": {
          "name": "#%% md\n"
        }
      },
      "source": [
        "## Tareas\n",
        "\n",
        "En este notebook se deberá cargar todas las librerías que se necesitan para explorar y procesar el dataset dado, y así realizar el analisis corresponendiente para extraer insights sobre la información dada. Se puede realizar cualquier análisis deseado, pero al final se espera encontrar realizadas las tareas del tipo \"requerido\". Además, hay algunos aspectos valorados del tipo \"deseable\" y \"bonus\" para obtener una valoración sobresaliente en este ejercicio.\n",
        "\n",
        "El código debe ser desarrollado en Python >= 3.9. Los reportes pueden estar en español o inglés.\n",
        "\n",
        "### Requerido\n",
        "\n",
        "- **Data QA:** Se debe chequear la calidad del dataset para hacer una evaluación de qué tan apropiados son los datos para tareas de Data Science. Proponga un conjunto de correcciones en los datos de ser necesario.\n",
        "- **Reporting:** Documente los resultados e insights obtenidos durante la exploración y describa conclusiones desde una perspectiva de negocio, soportado por gráficos / tablas / métricas.\n",
        "- **Machine Learning:** Describa las posibles tareas de Machine Learning que podrían realizarse desde el dataset dado, que podrían ser valiosas en el dominio dado (sólo explicar, **no entrenar un modelo**).\n",
        "\n",
        "\n",
        "\n",
        "### Deseable\n",
        "\n",
        "- **Versionado de código con Git** (incluso puede publicarse en tu cuenta personal de GitHub!).\n",
        "- **Feature Engineering:** Indicar y calcular posibles candidatos de features que podrían utilizarse tanto columnas originales y transformaciones.\n",
        "- **Modelo predictivo:** Realice un modelo predictivo.\n",
        "- **Mostrar skills en Python:** Teniendo buenas practicas en la estructura del código y la documentación.\n",
        "- **Casos de uso:** Describir posibles casos de usos a tratar con este dataset que podrían agregar valor al negocio dado, indicando métodos / técnicas y algoritmos por cada uno de ellos, así como justificando las decisiones tomadas.\n",
        "- **Métricas:** Definir y calcular las métricas que considere más relevantes para la problemática propuesta.\n",
        "\n",
        "### Bonus\n",
        "\n",
        "- Manejo de environment de desarrollo mediante alguna tecnología (e.g. Docker, virtualenv, conda).\n",
        "- Identificar nuevos atributos / tablas que podrían ser relevantes o necesarias para un mejor análisis.\n",
        "\n",
        "Este ejercicio está diseñado para ser completado en ~3 hs siguiendo sólo los aspectos del tipo \"requerido\", pero se contempla una semana para entregarlo con todos los aspectos que se deseen completar.\n",
        "\n",
        "Una vez completado este ejercicio, por favor mandar un archivo ZIP de la\n",
        "carpeta con todos los recursos usados en este trabajo (e.g. Jupyter notebook,\n",
        " scripts, documentos, imágenes, etc), también puedes compartir un collab reproducible, o bien el enlace al repositorio de\n",
        " GitHub, a `jaison.gonzalez@mercadolibre.com.co`\n",
        "\n",
        "**Que te diviertas!**\n",
        "\n",
        "<img src=\"http://s3.amazonaws.com/melidata-external/data-science-interviews/2021/img/hunger_games_data_meme.jpeg\" alt=\"drawing\" style=\"width:200px;\"/>\n",
        "\n",
        "### Anotaciones\n",
        "\n",
        "- Está permitido usar las herramientas y librerias que consideres, solo ten presente que luego se te pedirá justificar.\n",
        "- Aseguraté de que tu trabajo sea reproducible."
      ]
    },
    {
      "cell_type": "markdown",
      "metadata": {
        "id": "jxRjTa6ql0m8"
      },
      "source": [
        "# SOLUTION"
      ]
    },
    {
      "cell_type": "code",
      "execution_count": null,
      "metadata": {
        "vscode": {
          "languageId": "plaintext"
        }
      },
      "outputs": [],
      "source": []
    },
    {
      "cell_type": "code",
      "execution_count": null,
      "metadata": {
        "vscode": {
          "languageId": "plaintext"
        }
      },
      "outputs": [],
      "source": []
    }
  ],
  "metadata": {
    "@webio": {
      "lastCommId": "814db409262d41e59a8f535448fcae85",
      "lastKernelId": "3183b2f9-976f-49e9-9ea7-931bafbad9e4"
    },
    "colab": {
      "provenance": []
    },
    "kernelspec": {
      "display_name": "Python 3 (ipykernel)",
      "language": "python",
      "name": "python3"
    },
    "language_info": {
      "codemirror_mode": {
        "name": "ipython",
        "version": 3
      },
      "file_extension": ".py",
      "mimetype": "text/x-python",
      "name": "python",
      "nbconvert_exporter": "python",
      "pygments_lexer": "ipython3",
      "version": "3.7.4"
    }
  },
  "nbformat": 4,
  "nbformat_minor": 0
}
